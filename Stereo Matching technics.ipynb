{
 "cells": [
  {
   "cell_type": "markdown",
   "id": "33c6b608",
   "metadata": {},
   "source": [
    "----------------------------------------------------------------------------------------------------------\n",
    "\n",
    "# STEREO MATCHING TECHNICS\n",
    "\n",
    "----------------------------------------------------------------------------------------------------------\n",
    "\n",
    "\n",
    "\n",
    "### *Abstract:*\n",
    "\n",
    "*The matching of stereo couple in the computer vision field is a challenging topic with extensive research for many years, considering the numerous of possible application: 3D reconstruction, depth estimation, image fusion... etc\\\n",
    "In this document I will refer to the \"classical\" stereo matching, witch means the matching of a stereo pair of images from the same kind of sensor, and most of the time, regular CCD sensor in the visible domain.\n",
    "The final purpose for me is to find a way by adapting an existing method to be able to register a couple of image composed of a visible image and an infrared image as accurately as possible in order to be able to fusion them.*\n",
    "\n",
    "\n",
    "## 1) Overview of the existing literature\n",
    "\n",
    "A lot of papers has been published throught the last decade concerning the stereo matching problem. We can split the type of solution proposed in two different parts : the first one will be the \"conventional\" algorithm using mathematical principle and basic stereo vision understanding. the second category will be the Neural Network solutions. That's the novelty of this last decades, as the NN became much more accessible and the databbase for training are really easy to come by with a wide application range.\n",
    "\n",
    "### a. The conventionnal algorithm\n",
    "\n",
    "Three different approaches can be differentiated for the conventionnal algorithms.\n",
    "The first one is the most intuitive one: the local matching. It's giving usually good results and allows real-time application as the algorithm are most of the time splitable in several parrallel threads of computing.\n",
    "The second approach is the semi-global matching algorithm. It uses the same idea as local matching, but add to that costs constraining the disparity from a pixel to another\n",
    "\n",
    "The main goal here is to somehow associate as much information possible from the infrared image to the visible image taking into account the stereo effect. We gonna review different technique from the literature working with stereo pair of visible images and try to adapt them as best as we can. We will also propose some methods of our own using template matching with common features as the gradient or the phase.\n",
    "\n",
    "\n",
    "   We will have here an overview of the different technics used for 'classical' stereo \n",
    "    matching using a stereo visible database of images. That search can be split in two part :\n",
    "    - The 'conventional algorithm', they can be \"global\", \"semi-global\" or local \n",
    "    - The NN based techniques witches mostly make use of CNN\n",
    "    \n",
    "    Algorithms:\n",
    "        - global matching: minimize the global energy functions : E(d) = Edata(d) + Esmooth(d)\n",
    "            ex: graph cut, belief propagation\n",
    "        - semi-global matching: \n",
    "        - local_matching: Try to find the best correlation of a part of the image in the other \n",
    "            by a sliding window search. Our method is based on this kind of algorithm.\n",
    "            ex: SSD algorithm\n",
    "    #############################################\n",
    "    GET THE CORRECTION FROM THE DISPARITY MAP:\n",
    "    If we consider the following spatial offset between the cameras : x1= R.x0 + t\n",
    "    then we have the essential matrix:\n",
    "        |0 -tz -ty|\n",
    "    E = |tz  0 -tx|\n",
    "        |-ty tx  0|\n",
    "    which maps a point x0 from the left image to a line l1=Ex0 in the right image.\n",
    "    If the images are rectified, thus the rotation is null, there is only a translation \n",
    "    between the two cameras over the x axis, this relation becomes : d=Bf/Z  \n",
    "    with f the focal length (in pixels) , B the baseline\n",
    "    Presentation of the pipe of processing:\n",
    "    \n",
    "    1) Image Pre-processing (if needed):\n",
    "        - Image edges extraction\n",
    "        - Change of color-space\n",
    "        - Computation of the scale pyramid... etc.\n",
    "        \n",
    "    2) Computation of the disparity map"
   ]
  },
  {
   "cell_type": "code",
   "execution_count": null,
   "id": "f3c86267",
   "metadata": {},
   "outputs": [],
   "source": []
  },
  {
   "cell_type": "code",
   "execution_count": null,
   "id": "8a558338",
   "metadata": {},
   "outputs": [],
   "source": []
  },
  {
   "cell_type": "code",
   "execution_count": null,
   "id": "e83d60c1",
   "metadata": {},
   "outputs": [],
   "source": []
  },
  {
   "cell_type": "code",
   "execution_count": null,
   "id": "509d4469",
   "metadata": {},
   "outputs": [],
   "source": []
  },
  {
   "cell_type": "code",
   "execution_count": null,
   "id": "cca0b475",
   "metadata": {},
   "outputs": [],
   "source": []
  },
  {
   "cell_type": "code",
   "execution_count": null,
   "id": "875e1743",
   "metadata": {},
   "outputs": [],
   "source": []
  }
 ],
 "metadata": {
  "kernelspec": {
   "display_name": "Python 3 (ipykernel)",
   "language": "python",
   "name": "python3"
  },
  "language_info": {
   "codemirror_mode": {
    "name": "ipython",
    "version": 3
   },
   "file_extension": ".py",
   "mimetype": "text/x-python",
   "name": "python",
   "nbconvert_exporter": "python",
   "pygments_lexer": "ipython3",
   "version": "3.9.7"
  }
 },
 "nbformat": 4,
 "nbformat_minor": 5
}